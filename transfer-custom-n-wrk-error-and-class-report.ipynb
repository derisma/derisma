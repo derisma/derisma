{
 "cells": [
  {
   "cell_type": "markdown",
   "metadata": {
    "papermill": {
     "duration": 0.026223,
     "end_time": "2022-05-07T14:20:49.509160",
     "exception": false,
     "start_time": "2022-05-07T14:20:49.482937",
     "status": "completed"
    },
    "tags": []
   },
   "source": [
    "# Transfer Learning - Comparing losses and accuracies for different standard algorithms, Confusion Matrix and Classification Report."
   ]
  },
  {
   "attachments": {
    "aaaaaa.png": {
     "image/png": "[encoded data removed]"
    }
   },
   "cell_type": "markdown",
   "metadata": {
    "papermill": {
     "duration": 0.024449,
     "end_time": "2022-05-07T14:20:49.559082",
     "exception": false,
     "start_time": "2022-05-07T14:20:49.534633",
     "status": "completed"
    },
    "tags": []
   },
   "source": [
    "**Output:** Post running the below script, output resembles as shown in the below image.\n",
    "\n",
    "![aaaaaa.png](attachment:aaaaaa.png)"
   ]
  },
  {
   "cell_type": "code",
   "execution_count": 1,
   "metadata": {
    "_cell_guid": "b1076dfc-b9ad-4769-8c92-a6c4dae69d19",
    "_uuid": "8f2839f25d086af736a60e9eeb907d3b93b6e0e5",
    "execution": {
     "iopub.execute_input": "2022-05-07T14:20:49.617074Z",
     "iopub.status.busy": "2022-05-07T14:20:49.616407Z",
     "iopub.status.idle": "2022-05-07T14:21:08.635888Z",
     "shell.execute_reply": "2022-05-07T14:21:08.635273Z",
     "shell.execute_reply.started": "2022-05-07T07:16:21.633989Z"
    },
    "papermill": {
     "duration": 19.052645,
     "end_time": "2022-05-07T14:21:08.635992",
     "exception": false,
     "start_time": "2022-05-07T14:20:49.583347",
     "status": "completed"
    },
    "scrolled": true,
    "tags": []
   },
   "outputs": [],
   "source": [
    "# This Python 3 environment comes with many helpful analytics libraries installed\n",
    "# It is defined by the kaggle/python Docker image: https://github.com/kaggle/docker-python\n",
    "# For example, here's several helpful packages to load\n",
    "\n",
    "import numpy as np # linear algebra\n",
    "import pandas as pd # data processing, CSV file I/O (e.g. pd.read_csv)\n",
    "import numpy as np # linear algebra\n",
    "import pandas as pd # data processing, CSV file I/O (e.g. pd.read_csv)\n",
    "import os\n",
    "import sys\n",
    "import shutil   \n",
    "from keras import backend as K\n",
    "from keras.models import Sequential\n",
    "from keras import optimizers\n",
    "from keras.layers.core import Dense, Dropout, Activation, Flatten\n",
    "from keras.layers.convolutional import Convolution2D, MaxPooling2D\n",
    "from keras.layers import Dense, GlobalAveragePooling2D, Dropout\n",
    "from keras.preprocessing.image import ImageDataGenerator\n",
    "from keras.callbacks import History \n",
    "from sklearn.metrics import classification_report, confusion_matrix\n",
    "import keras\n",
    "from keras.layers.convolutional import Conv2D\n",
    "from keras.layers import Dense\n",
    "from keras.layers.convolutional import MaxPooling2D\n",
    "from keras.layers import Flatten\n",
    "from keras.layers import LeakyReLU\n",
    "from keras.layers.normalization import BatchNormalization\n",
    "# Input data files are available in the read-only \"../input/\" directory\n",
    "# For example, running this (by clicking run or pressing Shift+Enter) will list all files under the input directory\n",
    "\n",
    "import os\n",
    "for dirname, _, filenames in os.walk('/kaggle/input'):\n",
    "    for filename in filenames:\n",
    "        os.path.join(dirname, filename)\n",
    "# You can write up to 5GB to the current directory (/kaggle/working/) that gets preserved as output when you create a version using \"Save & Run All\" \n",
    "# You can also write temporary files to /kaggle/temp/, but they won't be saved outside of the current session"
   ]
  },
  {
   "cell_type": "code",
   "execution_count": 2,
   "metadata": {
    "_cell_guid": "79c7e3d0-c299-4dcb-8224-4455121ee9b0",
    "_uuid": "d629ff2d2480ee46fbb7e2d37f6b5fab8052498a",
    "execution": {
     "iopub.execute_input": "2022-05-07T14:21:08.689966Z",
     "iopub.status.busy": "2022-05-07T14:21:08.689427Z",
     "iopub.status.idle": "2022-05-07T14:21:08.714467Z",
     "shell.execute_reply": "2022-05-07T14:21:08.714883Z",
     "shell.execute_reply.started": "2022-05-07T07:16:24.736683Z"
    },
    "papermill": {
     "duration": 0.054541,
     "end_time": "2022-05-07T14:21:08.714996",
     "exception": false,
     "start_time": "2022-05-07T14:21:08.660455",
     "status": "completed"
    },
    "scrolled": true,
    "tags": []
   },
   "outputs": [
    {
     "data": {
      "text/html": [
       "<div>\n",
       "<style scoped>\n",
       "    .dataframe tbody tr th:only-of-type {\n",
       "        vertical-align: middle;\n",
       "    }\n",
       "\n",
       "    .dataframe tbody tr th {\n",
       "        vertical-align: top;\n",
       "    }\n",
       "\n",
       "    .dataframe thead th {\n",
       "        text-align: right;\n",
       "    }\n",
       "</style>\n",
       "<table border=\"1\" class=\"dataframe\">\n",
       "  <thead>\n",
       "    <tr style=\"text-align: right;\">\n",
       "      <th></th>\n",
       "      <th>Label\\t</th>\n",
       "      <th>Latin Name  \\t\\t\\t\\t\\t</th>\n",
       "      <th>Common Name\\t\\t\\t\\t</th>\n",
       "      <th>Train Images\\t</th>\n",
       "      <th>Validation Images</th>\n",
       "    </tr>\n",
       "  </thead>\n",
       "  <tbody>\n",
       "    <tr>\n",
       "      <th>0</th>\n",
       "      <td>n0 \\t</td>\n",
       "      <td>Tomato___Bacterial_spot\\t\\t\\t</td>\n",
       "      <td>Tomato___Bacterial_spot\\t\\t</td>\n",
       "      <td>1702</td>\n",
       "      <td>425</td>\n",
       "    </tr>\n",
       "    <tr>\n",
       "      <th>1</th>\n",
       "      <td>n1  \\t</td>\n",
       "      <td>Tomato___Early_blight\\t\\t\\t\\t</td>\n",
       "      <td>Tomato___Early_blight\\t\\t\\t</td>\n",
       "      <td>1920</td>\n",
       "      <td>480</td>\n",
       "    </tr>\n",
       "    <tr>\n",
       "      <th>2</th>\n",
       "      <td>n2 \\t</td>\n",
       "      <td>Tomato___healthy\\t\\t\\t\\t</td>\n",
       "      <td>Tomato___healthy\\t\\t\\t</td>\n",
       "      <td>1926</td>\n",
       "      <td>481</td>\n",
       "    </tr>\n",
       "    <tr>\n",
       "      <th>3</th>\n",
       "      <td>n3\\t</td>\n",
       "      <td>Tomato___Late_blight\\t\\t\\t\\t</td>\n",
       "      <td>Tomato___Late_blight\\t\\t\\t</td>\n",
       "      <td>1851</td>\n",
       "      <td>463</td>\n",
       "    </tr>\n",
       "    <tr>\n",
       "      <th>4</th>\n",
       "      <td>n4 \\t</td>\n",
       "      <td>Tomato___Leaf_Mold\\t\\t\\t\\t</td>\n",
       "      <td>Tomato___Leaf_Mold\\t\\t\\t</td>\n",
       "      <td>1882</td>\n",
       "      <td>470</td>\n",
       "    </tr>\n",
       "    <tr>\n",
       "      <th>5</th>\n",
       "      <td>n5 \\t</td>\n",
       "      <td>Tomato___Septoria_leaf_spot\\t\\t\\t</td>\n",
       "      <td>Tomato___Septoria_leaf_spot\\t\\t</td>\n",
       "      <td>1745</td>\n",
       "      <td>436</td>\n",
       "    </tr>\n",
       "    <tr>\n",
       "      <th>6</th>\n",
       "      <td>n6\\t</td>\n",
       "      <td>Tomato___Spider_mites Two-spotted_spider_mite\\t</td>\n",
       "      <td>Tomato___Spider_mites Two-spotted_spider_mite\\t</td>\n",
       "      <td>1741</td>\n",
       "      <td>435</td>\n",
       "    </tr>\n",
       "    <tr>\n",
       "      <th>7</th>\n",
       "      <td>n7\\t</td>\n",
       "      <td>Tomato___Target_Spot\\t\\t\\t\\t</td>\n",
       "      <td>Tomato___Target_Spot\\t\\t\\t</td>\n",
       "      <td>1827</td>\n",
       "      <td>457</td>\n",
       "    </tr>\n",
       "    <tr>\n",
       "      <th>8</th>\n",
       "      <td>n8\\t</td>\n",
       "      <td>Tomato___Tomato_mosaic_virus\\t\\t\\t</td>\n",
       "      <td>Tomato___Tomato_mosaic_virus\\t\\t</td>\n",
       "      <td>1790</td>\n",
       "      <td>448</td>\n",
       "    </tr>\n",
       "    <tr>\n",
       "      <th>9</th>\n",
       "      <td>n9\\t</td>\n",
       "      <td>Tomato___Tomato_Yellow_Leaf_Curl_Virus\\t\\t</td>\n",
       "      <td>Tomato___Tomato_Yellow_Leaf_Curl_Virus\\t</td>\n",
       "      <td>1961</td>\n",
       "      <td>490</td>\n",
       "    </tr>\n",
       "  </tbody>\n",
       "</table>\n",
       "</div>"
      ],
      "text/plain": [
       "  Label\\t                            Latin Name  \\t\\t\\t\\t\\t  \\\n",
       "0    n0 \\t                    Tomato___Bacterial_spot\\t\\t\\t   \n",
       "1   n1  \\t                    Tomato___Early_blight\\t\\t\\t\\t   \n",
       "2    n2 \\t                         Tomato___healthy\\t\\t\\t\\t   \n",
       "3     n3\\t                     Tomato___Late_blight\\t\\t\\t\\t   \n",
       "4    n4 \\t                       Tomato___Leaf_Mold\\t\\t\\t\\t   \n",
       "5    n5 \\t                Tomato___Septoria_leaf_spot\\t\\t\\t   \n",
       "6     n6\\t  Tomato___Spider_mites Two-spotted_spider_mite\\t   \n",
       "7     n7\\t                     Tomato___Target_Spot\\t\\t\\t\\t   \n",
       "8     n8\\t               Tomato___Tomato_mosaic_virus\\t\\t\\t   \n",
       "9     n9\\t       Tomato___Tomato_Yellow_Leaf_Curl_Virus\\t\\t   \n",
       "\n",
       "                               Common Name\\t\\t\\t\\t  Train Images\\t  \\\n",
       "0                      Tomato___Bacterial_spot\\t\\t            1702   \n",
       "1                      Tomato___Early_blight\\t\\t\\t            1920   \n",
       "2                           Tomato___healthy\\t\\t\\t            1926   \n",
       "3                       Tomato___Late_blight\\t\\t\\t            1851   \n",
       "4                         Tomato___Leaf_Mold\\t\\t\\t            1882   \n",
       "5                  Tomato___Septoria_leaf_spot\\t\\t            1745   \n",
       "6  Tomato___Spider_mites Two-spotted_spider_mite\\t            1741   \n",
       "7                       Tomato___Target_Spot\\t\\t\\t            1827   \n",
       "8                 Tomato___Tomato_mosaic_virus\\t\\t            1790   \n",
       "9         Tomato___Tomato_Yellow_Leaf_Curl_Virus\\t            1961   \n",
       "\n",
       "   Validation Images  \n",
       "0                425  \n",
       "1                480  \n",
       "2                481  \n",
       "3                463  \n",
       "4                470  \n",
       "5                436  \n",
       "6                435  \n",
       "7                457  \n",
       "8                448  \n",
       "9                490  "
      ]
     },
     "execution_count": 2,
     "metadata": {},
     "output_type": "execute_result"
    }
   ],
   "source": [
    "train = '../input/tomato-diseases-label-dataset/tomato diseases label dataset/training/training'\n",
    "val = '../input/tomato-diseases-label-dataset/tomato diseases label dataset/validation/validation'\n",
    "labels = pd.read_csv(\"../input/tomato-diseases-label-dataset/tomato diseases label dataset/tomato_labels.txt\")\n",
    "labels"
   ]
  },
  {
   "cell_type": "code",
   "execution_count": 3,
   "metadata": {
    "execution": {
     "iopub.execute_input": "2022-05-07T14:21:08.771526Z",
     "iopub.status.busy": "2022-05-07T14:21:08.770708Z",
     "iopub.status.idle": "2022-05-07T14:21:08.793290Z",
     "shell.execute_reply": "2022-05-07T14:21:08.792814Z",
     "shell.execute_reply.started": "2022-05-07T07:16:24.759853Z"
    },
    "papermill": {
     "duration": 0.052982,
     "end_time": "2022-05-07T14:21:08.793386",
     "exception": false,
     "start_time": "2022-05-07T14:21:08.740404",
     "status": "completed"
    },
    "scrolled": true,
    "tags": []
   },
   "outputs": [
    {
     "name": "stdout",
     "output_type": "stream",
     "text": [
      "Number of Training samples   :  18345\n",
      "Number of Validation samples :  4585\n"
     ]
    }
   ],
   "source": [
    "# Total number of training images\n",
    "num_of_train_samples = 0\n",
    "for train_dataset in os.listdir(train):\n",
    "    in_folder = train + \"/\" + train_dataset \n",
    "    in_folder_list = os.listdir(in_folder)\n",
    "    num_of_train_samples = num_of_train_samples + len(in_folder_list)\n",
    "print(\"Number of Training samples   : \",num_of_train_samples)\n",
    "\n",
    "# Total number of validation images\n",
    "num_of_validation_samples = 0\n",
    "for validation_dataset in os.listdir(val):\n",
    "    in_folder_val = val + \"/\" + validation_dataset\n",
    "    in_folder_val_list = os.listdir(in_folder_val)\n",
    "    num_of_validation_samples = num_of_validation_samples + len(in_folder_val_list)\n",
    "print(\"Number of Validation samples : \", num_of_validation_samples)"
   ]
  },
  {
   "cell_type": "markdown",
   "metadata": {
    "papermill": {
     "duration": 0.024666,
     "end_time": "2022-05-07T14:21:08.844118",
     "exception": false,
     "start_time": "2022-05-07T14:21:08.819452",
     "status": "completed"
    },
    "tags": []
   },
   "source": [
    "# Image Generator:¶\n",
    "\n",
    "Real time data augmentation, the data will be looped over (in batches)"
   ]
  },
  {
   "cell_type": "code",
   "execution_count": 4,
   "metadata": {
    "execution": {
     "iopub.execute_input": "2022-05-07T14:21:08.899051Z",
     "iopub.status.busy": "2022-05-07T14:21:08.898380Z",
     "iopub.status.idle": "2022-05-07T14:21:08.901197Z",
     "shell.execute_reply": "2022-05-07T14:21:08.900778Z",
     "shell.execute_reply.started": "2022-05-07T07:16:24.788573Z"
    },
    "papermill": {
     "duration": 0.032431,
     "end_time": "2022-05-07T14:21:08.901286",
     "exception": false,
     "start_time": "2022-05-07T14:21:08.868855",
     "status": "completed"
    },
    "scrolled": true,
    "tags": []
   },
   "outputs": [],
   "source": [
    "train_datagen = ImageDataGenerator(rescale=1. / 255,\n",
    "                                   rotation_range=40,\n",
    "                                   width_shift_range=0.2,\n",
    "                                   height_shift_range=0.2,\n",
    "                                   shear_range=0.2,\n",
    "                                   zoom_range=0.2,\n",
    "                                   horizontal_flip=True,\n",
    "                                   fill_mode='nearest')\n",
    "\n",
    "val_datagen = ImageDataGenerator(rescale=1. / 255)"
   ]
  },
  {
   "cell_type": "markdown",
   "metadata": {
    "papermill": {
     "duration": 0.024678,
     "end_time": "2022-05-07T14:21:08.950585",
     "exception": false,
     "start_time": "2022-05-07T14:21:08.925907",
     "status": "completed"
    },
    "tags": []
   },
   "source": [
    "defining hyperparameters, image resolution and other stuffs..."
   ]
  },
  {
   "cell_type": "code",
   "execution_count": 5,
   "metadata": {
    "execution": {
     "iopub.execute_input": "2022-05-07T14:21:09.006466Z",
     "iopub.status.busy": "2022-05-07T14:21:09.005628Z",
     "iopub.status.idle": "2022-05-07T14:21:13.050642Z",
     "shell.execute_reply": "2022-05-07T14:21:13.051052Z",
     "shell.execute_reply.started": "2022-05-07T07:16:24.799648Z"
    },
    "papermill": {
     "duration": 4.075797,
     "end_time": "2022-05-07T14:21:13.051215",
     "exception": false,
     "start_time": "2022-05-07T14:21:08.975418",
     "status": "completed"
    },
    "scrolled": true,
    "tags": []
   },
   "outputs": [
    {
     "name": "stdout",
     "output_type": "stream",
     "text": [
      "Found 18345 images belonging to 10 classes.\n",
      "Found 4585 images belonging to 10 classes.\n"
     ]
    }
   ],
   "source": [
    "batch_size = 64\n",
    "learning_rate = 0.0010\n",
    "epoch = 20\n",
    "\n",
    "# Defining image width and height respectively\n",
    "img_rows = 256\n",
    "img_cols = 256\n",
    "\n",
    "train_generator = train_datagen.flow_from_directory(train,\n",
    "                                                    target_size = (img_rows, img_cols),\n",
    "                                                    batch_size = batch_size,\n",
    "                                                    class_mode = 'categorical')\n",
    "\n",
    "validation_generator = val_datagen.flow_from_directory(val,\n",
    "                                                        target_size = (img_rows, img_cols),\n",
    "                                                        batch_size = batch_size,\n",
    "                                                        shuffle = False, class_mode='categorical')"
   ]
  },
  {
   "cell_type": "markdown",
   "metadata": {
    "papermill": {
     "duration": 0.033855,
     "end_time": "2022-05-07T14:21:13.112798",
     "exception": false,
     "start_time": "2022-05-07T14:21:13.078943",
     "status": "completed"
    },
    "tags": []
   },
   "source": [
    "class_mode = 'binary' (2 output classes) ---- if more class prefer class_mode = 'categorical'.\n",
    "\n",
    "Total number of steps (batches of samples) before declaring one epoch finished and starting the next epoch\n",
    "\n",
    "# ResNet 50"
   ]
  },
  {
   "cell_type": "code",
   "execution_count": 6,
   "metadata": {
    "execution": {
     "iopub.execute_input": "2022-05-07T14:21:13.168443Z",
     "iopub.status.busy": "2022-05-07T14:21:13.167749Z",
     "iopub.status.idle": "2022-05-07T14:21:13.171452Z",
     "shell.execute_reply": "2022-05-07T14:21:13.171007Z",
     "shell.execute_reply.started": "2022-05-07T07:16:26.307056Z"
    },
    "papermill": {
     "duration": 0.033094,
     "end_time": "2022-05-07T14:21:13.171546",
     "exception": false,
     "start_time": "2022-05-07T14:21:13.138452",
     "status": "completed"
    },
    "scrolled": true,
    "tags": []
   },
   "outputs": [
    {
     "name": "stdout",
     "output_type": "stream",
     "text": [
      "Steps per epoch:  286\n"
     ]
    }
   ],
   "source": [
    "steps_per_epoch = num_of_train_samples // batch_size\n",
    "print(\"Steps per epoch: \",steps_per_epoch)"
   ]
  },
  {
   "cell_type": "code",
   "execution_count": 7,
   "metadata": {
    "execution": {
     "iopub.execute_input": "2022-05-07T14:21:13.258902Z",
     "iopub.status.busy": "2022-05-07T14:21:13.257957Z",
     "iopub.status.idle": "2022-05-07T14:21:20.840726Z",
     "shell.execute_reply": "2022-05-07T14:21:20.841238Z",
     "shell.execute_reply.started": "2022-05-07T07:16:26.314801Z"
    },
    "papermill": {
     "duration": 7.64271,
     "end_time": "2022-05-07T14:21:20.841376",
     "exception": false,
     "start_time": "2022-05-07T14:21:13.198666",
     "status": "completed"
    },
    "scrolled": true,
    "tags": []
   },
   "outputs": [
    {
     "name": "stdout",
     "output_type": "stream",
     "text": [
      "Downloading data from https://storage.googleapis.com/tensorflow/keras-applications/resnet/resnet50_weights_tf_dim_ordering_tf_kernels_notop.h5\n",
      "94773248/94765736 [==============================] - 0s 0us/step\n",
      "Model: \"sequential\"\n",
      "_________________________________________________________________\n",
      "Layer (type)                 Output Shape              Param #   \n",
      "=================================================================\n",
      "resnet50 (Model)             (None, 2048)              23587712  \n",
      "_________________________________________________________________\n",
      "dense (Dense)                (None, 10)                20490     \n",
      "=================================================================\n",
      "Total params: 23,608,202\n",
      "Trainable params: 20,490\n",
      "Non-trainable params: 23,587,712\n",
      "_________________________________________________________________\n"
     ]
    }
   ],
   "source": [
    "from keras.applications import ResNet50\n",
    "# The sequential API allows you to create models layer-by-layer\n",
    "resnet_model = Sequential()\n",
    "resnet_model.add(ResNet50(include_top=False, \n",
    "                   pooling='max', \n",
    "                   weights='imagenet'))\n",
    "resnet_model.add(Dense(10, activation=\"softmax\"))\n",
    "\n",
    "# Summary: to find the number of parameters\n",
    "resnet_model.layers[0].trainable=False\n",
    "resnet_model.summary()\n",
    "\n",
    "adam = optimizers.Adam(lr=learning_rate, beta_1=0.9, beta_2=0.999, epsilon=1e-08, decay=0.00001)\n",
    "resnet_model.compile(loss=\"categorical_crossentropy\",\n",
    "              optimizer=adam,\n",
    "              metrics=[\"accuracy\"])\n"
   ]
  },
  {
   "cell_type": "code",
   "execution_count": 8,
   "metadata": {
    "execution": {
     "iopub.execute_input": "2022-05-07T14:21:20.908681Z",
     "iopub.status.busy": "2022-05-07T14:21:20.907939Z",
     "iopub.status.idle": "2022-05-07T16:09:20.180787Z",
     "shell.execute_reply": "2022-05-07T16:09:20.180262Z",
     "shell.execute_reply.started": "2022-05-07T07:16:30.731313Z"
    },
    "papermill": {
     "duration": 6479.309554,
     "end_time": "2022-05-07T16:09:20.180896",
     "exception": false,
     "start_time": "2022-05-07T14:21:20.871342",
     "status": "completed"
    },
    "tags": []
   },
   "outputs": [
    {
     "name": "stdout",
     "output_type": "stream",
     "text": [
      "Epoch 1/20\n",
      "286/286 [==============================] - 417s 1s/step - loss: 2.1890 - accuracy: 0.1985 - val_loss: 1.9335 - val_accuracy: 0.3250\n",
      "Epoch 2/20\n",
      "286/286 [==============================] - 318s 1s/step - loss: 1.9542 - accuracy: 0.2869 - val_loss: 1.8087 - val_accuracy: 0.3759\n",
      "Epoch 3/20\n",
      "286/286 [==============================] - 314s 1s/step - loss: 1.8618 - accuracy: 0.3252 - val_loss: 1.8909 - val_accuracy: 0.3521\n",
      "Epoch 4/20\n",
      "286/286 [==============================] - 310s 1s/step - loss: 1.8039 - accuracy: 0.3464 - val_loss: 1.9001 - val_accuracy: 0.3512\n",
      "Epoch 5/20\n",
      "286/286 [==============================] - 312s 1s/step - loss: 1.7497 - accuracy: 0.3693 - val_loss: 1.7163 - val_accuracy: 0.4188\n",
      "Epoch 6/20\n",
      "286/286 [==============================] - 311s 1s/step - loss: 1.7251 - accuracy: 0.3757 - val_loss: 1.8725 - val_accuracy: 0.3151\n",
      "Epoch 7/20\n",
      "286/286 [==============================] - 314s 1s/step - loss: 1.6931 - accuracy: 0.3991 - val_loss: 1.8060 - val_accuracy: 0.3966\n",
      "Epoch 8/20\n",
      "286/286 [==============================] - 314s 1s/step - loss: 1.6814 - accuracy: 0.4029 - val_loss: 1.7393 - val_accuracy: 0.3974\n",
      "Epoch 9/20\n",
      "286/286 [==============================] - 314s 1s/step - loss: 1.6452 - accuracy: 0.4181 - val_loss: 1.6180 - val_accuracy: 0.4624\n",
      "Epoch 10/20\n",
      "286/286 [==============================] - 316s 1s/step - loss: 1.6334 - accuracy: 0.4196 - val_loss: 1.6958 - val_accuracy: 0.4040\n",
      "Epoch 11/20\n",
      "286/286 [==============================] - 315s 1s/step - loss: 1.6205 - accuracy: 0.4153 - val_loss: 1.7107 - val_accuracy: 0.4470\n",
      "Epoch 12/20\n",
      "286/286 [==============================] - 318s 1s/step - loss: 1.6031 - accuracy: 0.4307 - val_loss: 1.7031 - val_accuracy: 0.4324\n",
      "Epoch 13/20\n",
      "286/286 [==============================] - 323s 1s/step - loss: 1.5790 - accuracy: 0.4405 - val_loss: 1.6652 - val_accuracy: 0.4481\n",
      "Epoch 14/20\n",
      "286/286 [==============================] - 321s 1s/step - loss: 1.5951 - accuracy: 0.4300 - val_loss: 1.8338 - val_accuracy: 0.4120\n",
      "Epoch 15/20\n",
      "286/286 [==============================] - 320s 1s/step - loss: 1.5650 - accuracy: 0.4396 - val_loss: 1.6371 - val_accuracy: 0.4507\n",
      "Epoch 16/20\n",
      "286/286 [==============================] - 320s 1s/step - loss: 1.5442 - accuracy: 0.4518 - val_loss: 1.7100 - val_accuracy: 0.4362\n",
      "Epoch 17/20\n",
      "286/286 [==============================] - 321s 1s/step - loss: 1.5386 - accuracy: 0.4540 - val_loss: 1.5628 - val_accuracy: 0.4714\n",
      "Epoch 18/20\n",
      "286/286 [==============================] - 322s 1s/step - loss: 1.5292 - accuracy: 0.4550 - val_loss: 1.4955 - val_accuracy: 0.4985\n",
      "Epoch 19/20\n",
      "286/286 [==============================] - 322s 1s/step - loss: 1.5374 - accuracy: 0.4558 - val_loss: 1.7361 - val_accuracy: 0.4364\n",
      "Epoch 20/20\n",
      "286/286 [==============================] - 322s 1s/step - loss: 1.5295 - accuracy: 0.4548 - val_loss: 1.8325 - val_accuracy: 0.4124\n"
     ]
    }
   ],
   "source": [
    "# Trains the model for a given number of epochs (iterations on a dataset).\n",
    "resnet_training = resnet_model.fit_generator(train_generator,\n",
    "                               steps_per_epoch = steps_per_epoch,\n",
    "                               epochs = epoch,\n",
    "                               validation_data = validation_generator,\n",
    "                               validation_steps = num_of_validation_samples // batch_size)\n"
   ]
  },
  {
   "cell_type": "markdown",
   "metadata": {
    "papermill": {
     "duration": 1.640288,
     "end_time": "2022-05-07T16:09:23.458705",
     "exception": false,
     "start_time": "2022-05-07T16:09:21.818417",
     "status": "completed"
    },
    "tags": []
   },
   "source": [
    "Saving the model history for ResNet - 50"
   ]
  },
  {
   "cell_type": "code",
   "execution_count": 9,
   "metadata": {
    "execution": {
     "iopub.execute_input": "2022-05-07T16:09:26.823248Z",
     "iopub.status.busy": "2022-05-07T16:09:26.822361Z",
     "iopub.status.idle": "2022-05-07T16:09:26.827862Z",
     "shell.execute_reply": "2022-05-07T16:09:26.828296Z",
     "shell.execute_reply.started": "2022-05-07T08:10:12.908028Z"
    },
    "papermill": {
     "duration": 1.673033,
     "end_time": "2022-05-07T16:09:26.828425",
     "exception": false,
     "start_time": "2022-05-07T16:09:25.155392",
     "status": "completed"
    },
    "scrolled": true,
    "tags": []
   },
   "outputs": [
    {
     "name": "stdout",
     "output_type": "stream",
     "text": [
      "Training Accuracy ResNet   : 0.4547891318798065\n",
      "Training Loss ResNet       : 1.5295135974884033\n",
      "Validation Accuracy ResNet : 0.41241195797920227\n",
      "Validation Loss ResNet     : 1.8325248956680298\n"
     ]
    }
   ],
   "source": [
    "training_accuracy_resnet      = resnet_training.history['accuracy'][-1]\n",
    "training_loss_resnet          = resnet_training.history['loss'][-1]\n",
    "validation_accuracy_resnet    = resnet_training.history['val_accuracy'][-1]\n",
    "validation_loss_resnet        = resnet_training.history['val_loss'][-1]\n",
    "print(\"Training Accuracy ResNet   :\", training_accuracy_resnet )\n",
    "print(\"Training Loss ResNet       :\", training_loss_resnet)\n",
    "print(\"Validation Accuracy ResNet :\", validation_accuracy_resnet)\n",
    "print(\"Validation Loss ResNet     :\", validation_loss_resnet)"
   ]
  },
  {
   "cell_type": "markdown",
   "metadata": {
    "papermill": {
     "duration": 1.604977,
     "end_time": "2022-05-07T16:09:30.330621",
     "exception": false,
     "start_time": "2022-05-07T16:09:28.725644",
     "status": "completed"
    },
    "tags": []
   },
   "source": [
    "Generating Confusion Matrix and Classification Report for ResNet 50"
   ]
  },
  {
   "cell_type": "code",
   "execution_count": 10,
   "metadata": {
    "execution": {
     "iopub.execute_input": "2022-05-07T16:09:33.681423Z",
     "iopub.status.busy": "2022-05-07T16:09:33.680743Z",
     "iopub.status.idle": "2022-05-07T16:09:49.684360Z",
     "shell.execute_reply": "2022-05-07T16:09:49.683842Z",
     "shell.execute_reply.started": "2022-05-07T08:10:12.919441Z"
    },
    "papermill": {
     "duration": 17.673761,
     "end_time": "2022-05-07T16:09:49.684472",
     "exception": false,
     "start_time": "2022-05-07T16:09:32.010711",
     "status": "completed"
    },
    "scrolled": true,
    "tags": []
   },
   "outputs": [
    {
     "name": "stdout",
     "output_type": "stream",
     "text": [
      "Confusion Matrix\n",
      "[[332   5  48   2  19   0   8   2   7   2]\n",
      " [ 48  77  65   1 113   5  54  52  55  10]\n",
      " [  8   0 467   0   1   0   0   1   4   0]\n",
      " [ 48  12  72  25 113   6  63  51  68   5]\n",
      " [ 40   9  88   0 190   7  39  19  77   1]\n",
      " [ 51   1 188   1  40  32  20  26  74   3]\n",
      " [  1   0 202   1   6   0 201  11  13   0]\n",
      " [  4   1 286   0   2   0  87  55  22   0]\n",
      " [  0   0  72   0   7   0  67   4 298   0]\n",
      " [ 79   1  13   0  35   1  80   2  63 216]]\n",
      "=============================================================================================\n",
      "Classification Report\n",
      "              precision    recall  f1-score   support\n",
      "\n",
      "          n0       0.54      0.78      0.64       425\n",
      "          n1       0.73      0.16      0.26       480\n",
      "          n2       0.31      0.97      0.47       481\n",
      "          n3       0.83      0.05      0.10       463\n",
      "          n4       0.36      0.40      0.38       470\n",
      "          n5       0.63      0.07      0.13       436\n",
      "          n6       0.32      0.46      0.38       435\n",
      "          n7       0.25      0.12      0.16       457\n",
      "          n8       0.44      0.67      0.53       448\n",
      "          n9       0.91      0.44      0.59       490\n",
      "\n",
      "    accuracy                           0.41      4585\n",
      "   macro avg       0.53      0.41      0.37      4585\n",
      "weighted avg       0.54      0.41      0.37      4585\n",
      "\n"
     ]
    }
   ],
   "source": [
    "# Generating Confusion Matrix and Classification Report\n",
    "Y_pred_res = resnet_model.predict_generator(validation_generator, num_of_validation_samples // batch_size+1)\n",
    "y_pred_res = np.argmax(Y_pred_res, axis=1)\n",
    "print('Confusion Matrix')\n",
    "conf_matrix_res = confusion_matrix(validation_generator.classes, y_pred_res)\n",
    "cm_res = np.array2string(conf_matrix_res)\n",
    "print(conf_matrix_res)\n",
    "print(\"=============================================================================================\")\n",
    "print('Classification Report')\n",
    "target_names = ['n0','n1','n2','n3','n4','n5','n6','n7','n8','n9']\n",
    "class_rep_res = classification_report(validation_generator.classes, y_pred_res, target_names=target_names)\n",
    "print(class_rep_res)"
   ]
  },
  {
   "cell_type": "markdown",
   "metadata": {
    "papermill": {
     "duration": 1.664932,
     "end_time": "2022-05-07T16:09:52.983882",
     "exception": false,
     "start_time": "2022-05-07T16:09:51.318950",
     "status": "completed"
    },
    "tags": []
   },
   "source": [
    "# Inception"
   ]
  },
  {
   "cell_type": "code",
   "execution_count": 11,
   "metadata": {
    "execution": {
     "iopub.execute_input": "2022-05-07T16:09:56.206411Z",
     "iopub.status.busy": "2022-05-07T16:09:56.204440Z",
     "iopub.status.idle": "2022-05-07T16:09:56.208505Z",
     "shell.execute_reply": "2022-05-07T16:09:56.208030Z",
     "shell.execute_reply.started": "2022-05-07T08:10:28.535900Z"
    },
    "papermill": {
     "duration": 1.614067,
     "end_time": "2022-05-07T16:09:56.208602",
     "exception": false,
     "start_time": "2022-05-07T16:09:54.594535",
     "status": "completed"
    },
    "scrolled": true,
    "tags": []
   },
   "outputs": [
    {
     "name": "stdout",
     "output_type": "stream",
     "text": [
      "Steps per epoch:  286\n"
     ]
    }
   ],
   "source": [
    "epoch_inc = 20\n",
    "learning_rate_inc = 0.001\n",
    "batch_size_inc = 64\n",
    "steps_per_epoch_inc = num_of_train_samples // batch_size_inc\n",
    "print(\"Steps per epoch: \",steps_per_epoch_inc)"
   ]
  },
  {
   "cell_type": "code",
   "execution_count": 12,
   "metadata": {
    "execution": {
     "iopub.execute_input": "2022-05-07T16:09:59.540417Z",
     "iopub.status.busy": "2022-05-07T16:09:59.538203Z",
     "iopub.status.idle": "2022-05-07T16:10:07.109250Z",
     "shell.execute_reply": "2022-05-07T16:10:07.109673Z",
     "shell.execute_reply.started": "2022-05-07T08:10:28.544808Z"
    },
    "papermill": {
     "duration": 9.219769,
     "end_time": "2022-05-07T16:10:07.109809",
     "exception": false,
     "start_time": "2022-05-07T16:09:57.890040",
     "status": "completed"
    },
    "scrolled": true,
    "tags": []
   },
   "outputs": [
    {
     "name": "stdout",
     "output_type": "stream",
     "text": [
      "Downloading data from https://storage.googleapis.com/tensorflow/keras-applications/inception_v3/inception_v3_weights_tf_dim_ordering_tf_kernels_notop.h5\n",
      "87916544/87910968 [==============================] - 0s 0us/step\n",
      "Model: \"sequential_1\"\n",
      "_________________________________________________________________\n",
      "Layer (type)                 Output Shape              Param #   \n",
      "=================================================================\n",
      "inception_v3 (Model)         (None, 2048)              21802784  \n",
      "_________________________________________________________________\n",
      "dense_1 (Dense)              (None, 10)                20490     \n",
      "=================================================================\n",
      "Total params: 21,823,274\n",
      "Trainable params: 20,490\n",
      "Non-trainable params: 21,802,784\n",
      "_________________________________________________________________\n"
     ]
    }
   ],
   "source": [
    "from keras.applications import InceptionV3\n",
    "# The sequential API allows us to create model layer by layer\n",
    "inc_model = Sequential()\n",
    "inc_model.add(InceptionV3(include_top=False, \n",
    "                      pooling='max',\n",
    "                      weights='imagenet'))\n",
    "inc_model.add(Dense(10, activation=\"softmax\"))\n",
    "\n",
    "# Summary: to find the number of parameters\n",
    "inc_model.layers[0].trainable=False\n",
    "inc_model.summary()\n",
    "\n",
    "adam = optimizers.Adam(lr=learning_rate, beta_1=0.9, beta_2=0.999, epsilon=1e-08, decay=0.00001)\n",
    "inc_model.compile(loss=\"categorical_crossentropy\",\n",
    "              optimizer=adam,\n",
    "              metrics=[\"accuracy\"])"
   ]
  },
  {
   "cell_type": "code",
   "execution_count": 13,
   "metadata": {
    "execution": {
     "iopub.execute_input": "2022-05-07T16:10:10.547911Z",
     "iopub.status.busy": "2022-05-07T16:10:10.547026Z",
     "iopub.status.idle": "2022-05-07T17:58:54.681799Z",
     "shell.execute_reply": "2022-05-07T17:58:54.682737Z",
     "shell.execute_reply.started": "2022-05-07T08:10:36.133704Z"
    },
    "papermill": {
     "duration": 6525.926545,
     "end_time": "2022-05-07T17:58:54.682892",
     "exception": false,
     "start_time": "2022-05-07T16:10:08.756347",
     "status": "completed"
    },
    "tags": []
   },
   "outputs": [
    {
     "name": "stdout",
     "output_type": "stream",
     "text": [
      "Epoch 1/20\n",
      "286/286 [==============================] - 318s 1s/step - loss: 1.5836 - accuracy: 0.5035 - val_loss: 1.1344 - val_accuracy: 0.6120\n",
      "Epoch 2/20\n",
      "286/286 [==============================] - 319s 1s/step - loss: 0.9694 - accuracy: 0.6748 - val_loss: 0.8625 - val_accuracy: 0.6978\n",
      "Epoch 3/20\n",
      "286/286 [==============================] - 318s 1s/step - loss: 0.8474 - accuracy: 0.7143 - val_loss: 0.8704 - val_accuracy: 0.7005\n",
      "Epoch 4/20\n",
      "286/286 [==============================] - 317s 1s/step - loss: 0.7671 - accuracy: 0.7419 - val_loss: 0.7675 - val_accuracy: 0.7346\n",
      "Epoch 5/20\n",
      "286/286 [==============================] - 319s 1s/step - loss: 0.7249 - accuracy: 0.7512 - val_loss: 0.6817 - val_accuracy: 0.7639\n",
      "Epoch 6/20\n",
      "286/286 [==============================] - 319s 1s/step - loss: 0.6928 - accuracy: 0.7670 - val_loss: 0.7399 - val_accuracy: 0.7476\n",
      "Epoch 7/20\n",
      "286/286 [==============================] - 320s 1s/step - loss: 0.6651 - accuracy: 0.7771 - val_loss: 0.6294 - val_accuracy: 0.7806\n",
      "Epoch 8/20\n",
      "286/286 [==============================] - 321s 1s/step - loss: 0.6564 - accuracy: 0.7784 - val_loss: 0.7181 - val_accuracy: 0.7544\n",
      "Epoch 9/20\n",
      "286/286 [==============================] - 323s 1s/step - loss: 0.6416 - accuracy: 0.7862 - val_loss: 0.6798 - val_accuracy: 0.7661\n",
      "Epoch 10/20\n",
      "286/286 [==============================] - 323s 1s/step - loss: 0.6385 - accuracy: 0.7887 - val_loss: 0.6868 - val_accuracy: 0.7672\n",
      "Epoch 11/20\n",
      "286/286 [==============================] - 325s 1s/step - loss: 0.6232 - accuracy: 0.7860 - val_loss: 0.6015 - val_accuracy: 0.7960\n",
      "Epoch 12/20\n",
      "286/286 [==============================] - 324s 1s/step - loss: 0.6260 - accuracy: 0.7925 - val_loss: 0.5748 - val_accuracy: 0.8013\n",
      "Epoch 13/20\n",
      "286/286 [==============================] - 329s 1s/step - loss: 0.5936 - accuracy: 0.8003 - val_loss: 0.5662 - val_accuracy: 0.8039\n",
      "Epoch 14/20\n",
      "286/286 [==============================] - 328s 1s/step - loss: 0.6149 - accuracy: 0.7949 - val_loss: 0.6151 - val_accuracy: 0.7951\n",
      "Epoch 15/20\n",
      "286/286 [==============================] - 325s 1s/step - loss: 0.6107 - accuracy: 0.7972 - val_loss: 0.6887 - val_accuracy: 0.7691\n",
      "Epoch 16/20\n",
      "286/286 [==============================] - 327s 1s/step - loss: 0.6075 - accuracy: 0.7981 - val_loss: 0.6132 - val_accuracy: 0.7967\n",
      "Epoch 17/20\n",
      "286/286 [==============================] - 327s 1s/step - loss: 0.6111 - accuracy: 0.7970 - val_loss: 0.6958 - val_accuracy: 0.7729\n",
      "Epoch 18/20\n",
      "286/286 [==============================] - 329s 1s/step - loss: 0.5749 - accuracy: 0.8079 - val_loss: 0.6148 - val_accuracy: 0.7901\n",
      "Epoch 19/20\n",
      "286/286 [==============================] - 331s 1s/step - loss: 0.6071 - accuracy: 0.8024 - val_loss: 0.7109 - val_accuracy: 0.7654\n",
      "Epoch 20/20\n",
      "286/286 [==============================] - 332s 1s/step - loss: 0.5708 - accuracy: 0.8123 - val_loss: 0.5642 - val_accuracy: 0.8092\n"
     ]
    }
   ],
   "source": [
    "# Trains the model for a given number of epochs (iterations on a dataset).\n",
    "inc_training = inc_model.fit_generator(train_generator,\n",
    "                                       steps_per_epoch = steps_per_epoch_inc,\n",
    "                                       epochs = epoch_inc,\n",
    "                                       validation_data = validation_generator,\n",
    "                                       validation_steps = num_of_validation_samples // batch_size_inc)"
   ]
  },
  {
   "cell_type": "markdown",
   "metadata": {
    "papermill": {
     "duration": 3.851851,
     "end_time": "2022-05-07T17:59:01.884213",
     "exception": false,
     "start_time": "2022-05-07T17:58:58.032362",
     "status": "completed"
    },
    "tags": []
   },
   "source": [
    "Saving the model history for Inception"
   ]
  },
  {
   "cell_type": "code",
   "execution_count": 14,
   "metadata": {
    "execution": {
     "iopub.execute_input": "2022-05-07T17:59:08.859203Z",
     "iopub.status.busy": "2022-05-07T17:59:08.858083Z",
     "iopub.status.idle": "2022-05-07T17:59:08.861309Z",
     "shell.execute_reply": "2022-05-07T17:59:08.859703Z",
     "shell.execute_reply.started": "2022-05-07T09:02:01.941135Z"
    },
    "papermill": {
     "duration": 3.480405,
     "end_time": "2022-05-07T17:59:08.861426",
     "exception": false,
     "start_time": "2022-05-07T17:59:05.381021",
     "status": "completed"
    },
    "scrolled": true,
    "tags": []
   },
   "outputs": [
    {
     "name": "stdout",
     "output_type": "stream",
     "text": [
      "Training Accuracy Inception   : 0.8123188018798828\n",
      "Training Loss Inception       : 0.570759117603302\n",
      "Validation Accuracy Inception : 0.8091989159584045\n",
      "Validation Loss Inception     : 0.5642490386962891\n"
     ]
    }
   ],
   "source": [
    "training_accuracy_inc      = inc_training.history['accuracy'][-1]\n",
    "training_loss_inc          = inc_training.history['loss'][-1]\n",
    "validation_accuracy_inc    = inc_training.history['val_accuracy'][-1]\n",
    "validation_loss_inc        = inc_training.history['val_loss'][-1]\n",
    "print(\"Training Accuracy Inception   :\", training_accuracy_inc )\n",
    "print(\"Training Loss Inception       :\", training_loss_inc)\n",
    "print(\"Validation Accuracy Inception :\", validation_accuracy_inc)\n",
    "print(\"Validation Loss Inception     :\", validation_loss_inc)"
   ]
  },
  {
   "cell_type": "markdown",
   "metadata": {
    "papermill": {
     "duration": 3.265708,
     "end_time": "2022-05-07T17:59:15.394319",
     "exception": false,
     "start_time": "2022-05-07T17:59:12.128611",
     "status": "completed"
    },
    "tags": []
   },
   "source": [
    "Generating Confusion Matrix and Classification Report for Inception"
   ]
  },
  {
   "cell_type": "code",
   "execution_count": 15,
   "metadata": {
    "execution": {
     "iopub.execute_input": "2022-05-07T17:59:22.179606Z",
     "iopub.status.busy": "2022-05-07T17:59:22.178629Z",
     "iopub.status.idle": "2022-05-07T17:59:38.238201Z",
     "shell.execute_reply": "2022-05-07T17:59:38.238646Z",
     "shell.execute_reply.started": "2022-05-07T09:02:01.952794Z"
    },
    "papermill": {
     "duration": 19.253173,
     "end_time": "2022-05-07T17:59:38.238770",
     "exception": false,
     "start_time": "2022-05-07T17:59:18.985597",
     "status": "completed"
    },
    "scrolled": true,
    "tags": []
   },
   "outputs": [
    {
     "name": "stdout",
     "output_type": "stream",
     "text": [
      "Confusion Matrix\n",
      "[[375   1   3   2   1  26   2   9   2   4]\n",
      " [ 19 291   3  54   6  52  22  26   5   2]\n",
      " [  0   0 441   9   0   2  11  17   1   0]\n",
      " [  1   3   6 425   3   5   3  12   2   3]\n",
      " [  6  11   8  47 306  22  19   9  37   5]\n",
      " [ 14   8   6  22   2 347   5  24   7   1]\n",
      " [  6   2  12  10   3   7 348  35   5   7]\n",
      " [ 17   8  37  24   0  22  32 313   1   3]\n",
      " [  0   2   3   9   5   6   7   2 412   2]\n",
      " [  9   1   0   3   1   3   9   1   4 459]]\n",
      "=============================================================================================\n",
      "Classification Report\n",
      "              precision    recall  f1-score   support\n",
      "\n",
      "          n0       0.84      0.88      0.86       425\n",
      "          n1       0.89      0.61      0.72       480\n",
      "          n2       0.85      0.92      0.88       481\n",
      "          n3       0.70      0.92      0.80       463\n",
      "          n4       0.94      0.65      0.77       470\n",
      "          n5       0.71      0.80      0.75       436\n",
      "          n6       0.76      0.80      0.78       435\n",
      "          n7       0.70      0.68      0.69       457\n",
      "          n8       0.87      0.92      0.89       448\n",
      "          n9       0.94      0.94      0.94       490\n",
      "\n",
      "    accuracy                           0.81      4585\n",
      "   macro avg       0.82      0.81      0.81      4585\n",
      "weighted avg       0.82      0.81      0.81      4585\n",
      "\n"
     ]
    }
   ],
   "source": [
    "# Generating Confusion Matrix and Classification Report\n",
    "Y_pred_inc = inc_model.predict_generator(validation_generator, num_of_validation_samples // batch_size+1)\n",
    "y_pred_inc = np.argmax(Y_pred_inc, axis=1)\n",
    "print('Confusion Matrix')\n",
    "conf_matrix_inc = confusion_matrix(validation_generator.classes, y_pred_inc)\n",
    "cm_inc = np.array2string(conf_matrix_inc)\n",
    "print(conf_matrix_inc)\n",
    "print(\"=============================================================================================\")\n",
    "print('Classification Report')\n",
    "# target_names = ['n0','n1','n2','n3','n4','n5','n6','n7','n8','n9']\n",
    "class_rep_inc = classification_report(validation_generator.classes, y_pred_inc, target_names=target_names)\n",
    "print(class_rep_inc)"
   ]
  },
  {
   "cell_type": "markdown",
   "metadata": {
    "papermill": {
     "duration": 3.314648,
     "end_time": "2022-05-07T17:59:45.102361",
     "exception": false,
     "start_time": "2022-05-07T17:59:41.787713",
     "status": "completed"
    },
    "tags": []
   },
   "source": [
    "# VGG16"
   ]
  },
  {
   "cell_type": "code",
   "execution_count": 16,
   "metadata": {
    "execution": {
     "iopub.execute_input": "2022-05-07T17:59:52.092441Z",
     "iopub.status.busy": "2022-05-07T17:59:52.091082Z",
     "iopub.status.idle": "2022-05-07T17:59:52.094789Z",
     "shell.execute_reply": "2022-05-07T17:59:52.095252Z",
     "shell.execute_reply.started": "2022-05-07T09:02:18.037956Z"
    },
    "papermill": {
     "duration": 3.794684,
     "end_time": "2022-05-07T17:59:52.095377",
     "exception": false,
     "start_time": "2022-05-07T17:59:48.300693",
     "status": "completed"
    },
    "scrolled": true,
    "tags": []
   },
   "outputs": [
    {
     "name": "stdout",
     "output_type": "stream",
     "text": [
      "Steps per epoch:  286\n"
     ]
    }
   ],
   "source": [
    "epoch_vgg = 20\n",
    "learning_rate_vgg = 0.001\n",
    "batch_size_vgg = 64\n",
    "steps_per_epoch_vgg = num_of_train_samples // batch_size_vgg\n",
    "print(\"Steps per epoch: \",steps_per_epoch_vgg)"
   ]
  },
  {
   "cell_type": "code",
   "execution_count": 17,
   "metadata": {
    "execution": {
     "iopub.execute_input": "2022-05-07T17:59:58.715556Z",
     "iopub.status.busy": "2022-05-07T17:59:58.714647Z",
     "iopub.status.idle": "2022-05-07T17:59:59.485737Z",
     "shell.execute_reply": "2022-05-07T17:59:59.485085Z",
     "shell.execute_reply.started": "2022-05-07T09:02:18.047323Z"
    },
    "papermill": {
     "duration": 4.09585,
     "end_time": "2022-05-07T17:59:59.485853",
     "exception": false,
     "start_time": "2022-05-07T17:59:55.390003",
     "status": "completed"
    },
    "scrolled": true,
    "tags": []
   },
   "outputs": [
    {
     "name": "stdout",
     "output_type": "stream",
     "text": [
      "Downloading data from https://storage.googleapis.com/tensorflow/keras-applications/vgg16/vgg16_weights_tf_dim_ordering_tf_kernels_notop.h5\n",
      "58892288/58889256 [==============================] - 0s 0us/step\n",
      "Model: \"sequential_2\"\n",
      "_________________________________________________________________\n",
      "Layer (type)                 Output Shape              Param #   \n",
      "=================================================================\n",
      "vgg16 (Model)                (None, 512)               14714688  \n",
      "_________________________________________________________________\n",
      "dense_2 (Dense)              (None, 10)                5130      \n",
      "=================================================================\n",
      "Total params: 14,719,818\n",
      "Trainable params: 5,130\n",
      "Non-trainable params: 14,714,688\n",
      "_________________________________________________________________\n"
     ]
    }
   ],
   "source": [
    "from keras.applications import vgg16\n",
    "    # The sequential API allows you to create models layer-by-layer\n",
    "vgg_model=Sequential()\n",
    "vgg_model.add(vgg16.VGG16(include_top = False, pooling = 'max', weights = 'imagenet'))\n",
    "vgg_model.add(Dense(10, activation=\"softmax\"))\n",
    "\n",
    "    # Summary: to find the number of parameters\n",
    "vgg_model.layers[0].trainable=False\n",
    "vgg_model.summary() \n",
    "\n",
    "adam = optimizers.Adam(lr=learning_rate_vgg, beta_1=0.9, beta_2=0.999, epsilon=1e-08, decay=0.00001)\n",
    "vgg_model.compile(loss=\"categorical_crossentropy\",\n",
    "                  optimizer=adam,\n",
    "                  metrics=[\"accuracy\"])"
   ]
  },
  {
   "cell_type": "code",
   "execution_count": 18,
   "metadata": {
    "execution": {
     "iopub.execute_input": "2022-05-07T18:00:06.732622Z",
     "iopub.status.busy": "2022-05-07T18:00:06.731795Z",
     "iopub.status.idle": "2022-05-07T19:53:30.324647Z",
     "shell.execute_reply": "2022-05-07T19:53:30.323722Z",
     "shell.execute_reply.started": "2022-05-07T09:02:18.704243Z"
    },
    "papermill": {
     "duration": 6807.280151,
     "end_time": "2022-05-07T19:53:30.324762",
     "exception": false,
     "start_time": "2022-05-07T18:00:03.044611",
     "status": "completed"
    },
    "tags": []
   },
   "outputs": [
    {
     "name": "stdout",
     "output_type": "stream",
     "text": [
      "Epoch 1/20\n",
      "286/286 [==============================] - 346s 1s/step - loss: 1.7445 - accuracy: 0.4256 - val_loss: 1.3998 - val_accuracy: 0.5511\n",
      "Epoch 2/20\n",
      "286/286 [==============================] - 342s 1s/step - loss: 1.2203 - accuracy: 0.6168 - val_loss: 1.1334 - val_accuracy: 0.6360\n",
      "Epoch 3/20\n",
      "286/286 [==============================] - 342s 1s/step - loss: 1.0569 - accuracy: 0.6680 - val_loss: 1.0177 - val_accuracy: 0.6721\n",
      "Epoch 4/20\n",
      "286/286 [==============================] - 345s 1s/step - loss: 0.9605 - accuracy: 0.6944 - val_loss: 0.9423 - val_accuracy: 0.6948\n",
      "Epoch 5/20\n",
      "286/286 [==============================] - 343s 1s/step - loss: 0.8978 - accuracy: 0.7130 - val_loss: 0.9017 - val_accuracy: 0.7044\n",
      "Epoch 6/20\n",
      "286/286 [==============================] - 341s 1s/step - loss: 0.8502 - accuracy: 0.7269 - val_loss: 0.8512 - val_accuracy: 0.7262\n",
      "Epoch 7/20\n",
      "286/286 [==============================] - 343s 1s/step - loss: 0.8138 - accuracy: 0.7366 - val_loss: 0.8042 - val_accuracy: 0.7372\n",
      "Epoch 8/20\n",
      "286/286 [==============================] - 342s 1s/step - loss: 0.7867 - accuracy: 0.7434 - val_loss: 0.8455 - val_accuracy: 0.7143\n",
      "Epoch 9/20\n",
      "286/286 [==============================] - 334s 1s/step - loss: 0.7695 - accuracy: 0.7472 - val_loss: 0.7938 - val_accuracy: 0.7282\n",
      "Epoch 10/20\n",
      "286/286 [==============================] - 333s 1s/step - loss: 0.7541 - accuracy: 0.7526 - val_loss: 0.7865 - val_accuracy: 0.7381\n",
      "Epoch 11/20\n",
      "286/286 [==============================] - 334s 1s/step - loss: 0.7317 - accuracy: 0.7600 - val_loss: 0.7283 - val_accuracy: 0.7610\n",
      "Epoch 12/20\n",
      "286/286 [==============================] - 335s 1s/step - loss: 0.7213 - accuracy: 0.7670 - val_loss: 0.7407 - val_accuracy: 0.7445\n",
      "Epoch 13/20\n",
      "286/286 [==============================] - 336s 1s/step - loss: 0.7078 - accuracy: 0.7645 - val_loss: 0.7518 - val_accuracy: 0.7443\n",
      "Epoch 14/20\n",
      "286/286 [==============================] - 336s 1s/step - loss: 0.7018 - accuracy: 0.7657 - val_loss: 0.7601 - val_accuracy: 0.7381\n",
      "Epoch 15/20\n",
      "286/286 [==============================] - 337s 1s/step - loss: 0.6973 - accuracy: 0.7686 - val_loss: 0.6951 - val_accuracy: 0.7628\n",
      "Epoch 16/20\n",
      "286/286 [==============================] - 335s 1s/step - loss: 0.6764 - accuracy: 0.7760 - val_loss: 0.6902 - val_accuracy: 0.7674\n",
      "Epoch 17/20\n",
      "286/286 [==============================] - 337s 1s/step - loss: 0.6717 - accuracy: 0.7747 - val_loss: 0.6943 - val_accuracy: 0.7656\n",
      "Epoch 18/20\n",
      "286/286 [==============================] - 334s 1s/step - loss: 0.6795 - accuracy: 0.7724 - val_loss: 0.6923 - val_accuracy: 0.7628\n",
      "Epoch 19/20\n",
      "286/286 [==============================] - 338s 1s/step - loss: 0.6571 - accuracy: 0.7824 - val_loss: 0.6654 - val_accuracy: 0.7753\n",
      "Epoch 20/20\n",
      "286/286 [==============================] - 335s 1s/step - loss: 0.6646 - accuracy: 0.7797 - val_loss: 0.6637 - val_accuracy: 0.7705\n"
     ]
    }
   ],
   "source": [
    "# Trains the model for a given number of epochs (iterations on a dataset).\n",
    "vgg_training = vgg_model.fit_generator(train_generator,\n",
    "                                       steps_per_epoch = steps_per_epoch_vgg,\n",
    "                                       epochs = epoch_vgg,\n",
    "                                       validation_data = validation_generator,\n",
    "                                       validation_steps = num_of_validation_samples // batch_size_vgg)"
   ]
  },
  {
   "cell_type": "markdown",
   "metadata": {
    "papermill": {
     "duration": 5.003024,
     "end_time": "2022-05-07T19:53:40.163390",
     "exception": false,
     "start_time": "2022-05-07T19:53:35.160366",
     "status": "completed"
    },
    "tags": []
   },
   "source": [
    "Saving the model history for VGG"
   ]
  },
  {
   "cell_type": "code",
   "execution_count": 19,
   "metadata": {
    "execution": {
     "iopub.execute_input": "2022-05-07T19:53:50.181775Z",
     "iopub.status.busy": "2022-05-07T19:53:50.180892Z",
     "iopub.status.idle": "2022-05-07T19:53:50.185355Z",
     "shell.execute_reply": "2022-05-07T19:53:50.186288Z",
     "shell.execute_reply.started": "2022-05-07T09:55:48.265276Z"
    },
    "papermill": {
     "duration": 4.918193,
     "end_time": "2022-05-07T19:53:50.186414",
     "exception": false,
     "start_time": "2022-05-07T19:53:45.268221",
     "status": "completed"
    },
    "scrolled": true,
    "tags": []
   },
   "outputs": [
    {
     "name": "stdout",
     "output_type": "stream",
     "text": [
      "Training Accuracy VGG    : 0.7796619534492493\n",
      "Training Loss VGG        : 0.664605438709259\n",
      "Validation Accuracy VGG  : 0.7704665660858154\n",
      "Validation Loss VGG      : 0.6637090444564819\n"
     ]
    }
   ],
   "source": [
    "training_accuracy_vgg      = vgg_training.history['accuracy'][-1]\n",
    "training_loss_vgg          = vgg_training.history['loss'][-1]\n",
    "validation_accuracy_vgg    = vgg_training.history['val_accuracy'][-1]\n",
    "validation_loss_vgg        = vgg_training.history['val_loss'][-1]\n",
    "print(\"Training Accuracy VGG    :\", training_accuracy_vgg )\n",
    "print(\"Training Loss VGG        :\", training_loss_vgg)\n",
    "print(\"Validation Accuracy VGG  :\", validation_accuracy_vgg)\n",
    "print(\"Validation Loss VGG      :\", validation_loss_vgg)"
   ]
  },
  {
   "cell_type": "markdown",
   "metadata": {
    "papermill": {
     "duration": 5.024793,
     "end_time": "2022-05-07T19:54:00.735219",
     "exception": false,
     "start_time": "2022-05-07T19:53:55.710426",
     "status": "completed"
    },
    "tags": []
   },
   "source": [
    "Generating Confusion Matrix and Classification Report for VGG"
   ]
  },
  {
   "cell_type": "code",
   "execution_count": 20,
   "metadata": {
    "execution": {
     "iopub.execute_input": "2022-05-07T19:54:10.764645Z",
     "iopub.status.busy": "2022-05-07T19:54:10.763921Z",
     "iopub.status.idle": "2022-05-07T19:54:25.771031Z",
     "shell.execute_reply": "2022-05-07T19:54:25.769977Z",
     "shell.execute_reply.started": "2022-05-07T09:55:48.276230Z"
    },
    "papermill": {
     "duration": 19.857346,
     "end_time": "2022-05-07T19:54:25.771169",
     "exception": false,
     "start_time": "2022-05-07T19:54:05.913823",
     "status": "completed"
    },
    "scrolled": true,
    "tags": []
   },
   "outputs": [
    {
     "name": "stdout",
     "output_type": "stream",
     "text": [
      "Confusion Matrix\n",
      "[[402   1   0   3   0  13   5   0   0   1]\n",
      " [ 26 312   3  34  11  29  24  28   6   7]\n",
      " [ 32   8 291   2   2   2  75  62   7   0]\n",
      " [ 19  29   2 347  11   9  21  16   6   3]\n",
      " [ 19  24   2  16 331  12  34   9  19   4]\n",
      " [ 42  16   0   9  13 311   9  26   8   2]\n",
      " [  8   6   0   5   8   8 381  11   7   1]\n",
      " [ 23  16   4   7   4  17  84 292   7   3]\n",
      " [  2   2   1   0   3   1   3   1 435   0]\n",
      " [ 15   7   0   6   3   1  17   1   4 436]]\n",
      "=============================================================================================\n",
      "Classification Report\n",
      "              precision    recall  f1-score   support\n",
      "\n",
      "          n0       0.68      0.95      0.79       425\n",
      "          n1       0.74      0.65      0.69       480\n",
      "          n2       0.96      0.60      0.74       481\n",
      "          n3       0.81      0.75      0.78       463\n",
      "          n4       0.86      0.70      0.77       470\n",
      "          n5       0.77      0.71      0.74       436\n",
      "          n6       0.58      0.88      0.70       435\n",
      "          n7       0.65      0.64      0.65       457\n",
      "          n8       0.87      0.97      0.92       448\n",
      "          n9       0.95      0.89      0.92       490\n",
      "\n",
      "    accuracy                           0.77      4585\n",
      "   macro avg       0.79      0.77      0.77      4585\n",
      "weighted avg       0.79      0.77      0.77      4585\n",
      "\n"
     ]
    }
   ],
   "source": [
    "# Generating Confusion Matrix and Classification Report\n",
    "Y_pred_vgg = vgg_model.predict_generator(validation_generator, num_of_validation_samples // batch_size+1)\n",
    "y_pred_vgg = np.argmax(Y_pred_vgg, axis=1)\n",
    "print('Confusion Matrix')\n",
    "conf_matrix_vgg = confusion_matrix(validation_generator.classes, y_pred_vgg)\n",
    "cm_vgg = np.array2string(conf_matrix_vgg)\n",
    "print(conf_matrix_vgg)\n",
    "print(\"=============================================================================================\")\n",
    "print('Classification Report')\n",
    "target_names = ['n0','n1','n2','n3','n4','n5','n6','n7','n8','n9']\n",
    "class_rep_vgg = classification_report(validation_generator.classes, y_pred_vgg, target_names=target_names)\n",
    "print(class_rep_vgg)"
   ]
  },
  {
   "cell_type": "markdown",
   "metadata": {
    "papermill": {
     "duration": 5.125974,
     "end_time": "2022-05-07T19:54:36.530338",
     "exception": false,
     "start_time": "2022-05-07T19:54:31.404364",
     "status": "completed"
    },
    "tags": []
   },
   "source": [
    "# Custom Network"
   ]
  },
  {
   "cell_type": "code",
   "execution_count": 21,
   "metadata": {
    "execution": {
     "iopub.execute_input": "2022-05-07T19:54:46.611830Z",
     "iopub.status.busy": "2022-05-07T19:54:46.610962Z",
     "iopub.status.idle": "2022-05-07T19:54:46.617604Z",
     "shell.execute_reply": "2022-05-07T19:54:46.618349Z",
     "shell.execute_reply.started": "2022-05-07T09:56:03.080081Z"
    },
    "papermill": {
     "duration": 5.116874,
     "end_time": "2022-05-07T19:54:46.618522",
     "exception": false,
     "start_time": "2022-05-07T19:54:41.501648",
     "status": "completed"
    },
    "scrolled": true,
    "tags": []
   },
   "outputs": [
    {
     "name": "stdout",
     "output_type": "stream",
     "text": [
      "Steps per epoch:  286\n"
     ]
    }
   ],
   "source": [
    "epoch_cn = 20\n",
    "learning_rate_cn = 0.0010\n",
    "batch_size_cn = 64\n",
    "steps_per_epoch_cn = num_of_train_samples // batch_size_cn\n",
    "print(\"Steps per epoch: \",steps_per_epoch_cn)"
   ]
  },
  {
   "cell_type": "code",
   "execution_count": 22,
   "metadata": {
    "execution": {
     "iopub.execute_input": "2022-05-07T19:54:56.379440Z",
     "iopub.status.busy": "2022-05-07T19:54:56.378569Z",
     "iopub.status.idle": "2022-05-07T19:54:56.635662Z",
     "shell.execute_reply": "2022-05-07T19:54:56.635241Z",
     "shell.execute_reply.started": "2022-05-07T09:56:03.088732Z"
    },
    "papermill": {
     "duration": 5.105284,
     "end_time": "2022-05-07T19:54:56.635760",
     "exception": false,
     "start_time": "2022-05-07T19:54:51.530476",
     "status": "completed"
    },
    "scrolled": true,
    "tags": []
   },
   "outputs": [
    {
     "name": "stdout",
     "output_type": "stream",
     "text": [
      "Model: \"sequential_3\"\n",
      "_________________________________________________________________\n",
      "Layer (type)                 Output Shape              Param #   \n",
      "=================================================================\n",
      "conv2d_94 (Conv2D)           (None, 256, 256, 16)      448       \n",
      "_________________________________________________________________\n",
      "activation_94 (Activation)   (None, 256, 256, 16)      0         \n",
      "_________________________________________________________________\n",
      "batch_normalization_94 (Batc (None, 256, 256, 16)      64        \n",
      "_________________________________________________________________\n",
      "max_pooling2d_4 (MaxPooling2 (None, 128, 128, 16)      0         \n",
      "_________________________________________________________________\n",
      "conv2d_95 (Conv2D)           (None, 128, 128, 32)      4640      \n",
      "_________________________________________________________________\n",
      "activation_95 (Activation)   (None, 128, 128, 32)      0         \n",
      "_________________________________________________________________\n",
      "batch_normalization_95 (Batc (None, 128, 128, 32)      128       \n",
      "_________________________________________________________________\n",
      "max_pooling2d_5 (MaxPooling2 (None, 64, 64, 32)        0         \n",
      "_________________________________________________________________\n",
      "dropout (Dropout)            (None, 64, 64, 32)        0         \n",
      "_________________________________________________________________\n",
      "conv2d_96 (Conv2D)           (None, 64, 64, 32)        9248      \n",
      "_________________________________________________________________\n",
      "activation_96 (Activation)   (None, 64, 64, 32)        0         \n",
      "_________________________________________________________________\n",
      "batch_normalization_96 (Batc (None, 64, 64, 32)        128       \n",
      "_________________________________________________________________\n",
      "max_pooling2d_6 (MaxPooling2 (None, 32, 32, 32)        0         \n",
      "_________________________________________________________________\n",
      "conv2d_97 (Conv2D)           (None, 32, 32, 64)        18496     \n",
      "_________________________________________________________________\n",
      "activation_97 (Activation)   (None, 32, 32, 64)        0         \n",
      "_________________________________________________________________\n",
      "batch_normalization_97 (Batc (None, 32, 32, 64)        256       \n",
      "_________________________________________________________________\n",
      "max_pooling2d_7 (MaxPooling2 (None, 16, 16, 64)        0         \n",
      "_________________________________________________________________\n",
      "flatten (Flatten)            (None, 16384)             0         \n",
      "_________________________________________________________________\n",
      "dense_3 (Dense)              (None, 256)               4194560   \n",
      "_________________________________________________________________\n",
      "dropout_1 (Dropout)          (None, 256)               0         \n",
      "_________________________________________________________________\n",
      "dense_4 (Dense)              (None, 10)                2570      \n",
      "_________________________________________________________________\n",
      "activation_98 (Activation)   (None, 10)                0         \n",
      "=================================================================\n",
      "Total params: 4,230,538\n",
      "Trainable params: 4,230,250\n",
      "Non-trainable params: 288\n",
      "_________________________________________________________________\n"
     ]
    }
   ],
   "source": [
    "# Custom network\n",
    "model_cn = Sequential()\n",
    "model_cn.add(Conv2D(16,(3,3),input_shape=(256,256,3),padding='same'))\n",
    "model_cn.add(Activation('relu'))\n",
    "model_cn.add(BatchNormalization())\n",
    "model_cn.add(MaxPooling2D(pool_size=(2,2)))\n",
    "\n",
    "model_cn.add(Conv2D(32,(3,3),padding='same'))\n",
    "model_cn.add(Activation('relu'))\n",
    "model_cn.add(BatchNormalization())\n",
    "model_cn.add(MaxPooling2D(pool_size=(2,2)))\n",
    "model_cn.add(Dropout(0.25))\n",
    "\n",
    "\n",
    "model_cn.add(Conv2D(32,(3,3),padding='same'))\n",
    "model_cn.add(Activation('relu'))\n",
    "model_cn.add(BatchNormalization())\n",
    "model_cn.add(MaxPooling2D(pool_size=(2,2)))\n",
    "\n",
    "model_cn.add(Conv2D(64,(3,3),padding='same'))\n",
    "model_cn.add(Activation('relu'))\n",
    "model_cn.add(BatchNormalization())\n",
    "model_cn.add(MaxPooling2D(pool_size=(2,2)))\n",
    "\n",
    "model_cn.add(Flatten())\n",
    "model_cn.add(Dense(256,activation='relu'))\n",
    "#model.add(LeakyReLU(0.1))\n",
    "model_cn.add(Dropout(0.5))\n",
    "model_cn.add(Dense(10))\n",
    "model_cn.add(Activation(\"softmax\"))\n",
    "\n",
    "model_cn.summary()\n",
    "\n",
    "\n",
    "model_cn.compile(loss=\"categorical_crossentropy\",\n",
    "                  optimizer= 'adam',\n",
    "                  metrics=[\"accuracy\"])"
   ]
  },
  {
   "cell_type": "code",
   "execution_count": 23,
   "metadata": {
    "execution": {
     "iopub.execute_input": "2022-05-07T19:55:07.126981Z",
     "iopub.status.busy": "2022-05-07T19:55:07.126193Z",
     "iopub.status.idle": "2022-05-07T21:42:34.913839Z",
     "shell.execute_reply": "2022-05-07T21:42:34.914412Z",
     "shell.execute_reply.started": "2022-05-07T09:56:03.481312Z"
    },
    "papermill": {
     "duration": 6452.708674,
     "end_time": "2022-05-07T21:42:34.914560",
     "exception": false,
     "start_time": "2022-05-07T19:55:02.205886",
     "status": "completed"
    },
    "tags": []
   },
   "outputs": [
    {
     "name": "stdout",
     "output_type": "stream",
     "text": [
      "Epoch 1/20\n",
      "286/286 [==============================] - 314s 1s/step - loss: 1.8684 - accuracy: 0.4644 - val_loss: 27.5188 - val_accuracy: 0.1648\n",
      "Epoch 2/20\n",
      "286/286 [==============================] - 321s 1s/step - loss: 1.0991 - accuracy: 0.6317 - val_loss: 3.0711 - val_accuracy: 0.5088\n",
      "Epoch 3/20\n",
      "286/286 [==============================] - 318s 1s/step - loss: 0.8836 - accuracy: 0.7023 - val_loss: 3.3273 - val_accuracy: 0.6276\n",
      "Epoch 4/20\n",
      "286/286 [==============================] - 322s 1s/step - loss: 0.7779 - accuracy: 0.7430 - val_loss: 1.2490 - val_accuracy: 0.6063\n",
      "Epoch 5/20\n",
      "286/286 [==============================] - 323s 1s/step - loss: 0.6711 - accuracy: 0.7736 - val_loss: 1.1821 - val_accuracy: 0.7353\n",
      "Epoch 6/20\n",
      "286/286 [==============================] - 318s 1s/step - loss: 0.6214 - accuracy: 0.7911 - val_loss: 9.3989 - val_accuracy: 0.5059\n",
      "Epoch 7/20\n",
      "286/286 [==============================] - 319s 1s/step - loss: 0.5566 - accuracy: 0.8134 - val_loss: 6.5020 - val_accuracy: 0.5684\n",
      "Epoch 8/20\n",
      "286/286 [==============================] - 316s 1s/step - loss: 0.5152 - accuracy: 0.8281 - val_loss: 13.2145 - val_accuracy: 0.4481\n",
      "Epoch 9/20\n",
      "286/286 [==============================] - 321s 1s/step - loss: 0.4778 - accuracy: 0.8439 - val_loss: 4.2519 - val_accuracy: 0.6791\n",
      "Epoch 10/20\n",
      "286/286 [==============================] - 318s 1s/step - loss: 0.4672 - accuracy: 0.8456 - val_loss: 5.0663 - val_accuracy: 0.6562\n",
      "Epoch 11/20\n",
      "286/286 [==============================] - 324s 1s/step - loss: 0.4110 - accuracy: 0.8632 - val_loss: 3.3238 - val_accuracy: 0.5548\n",
      "Epoch 12/20\n",
      "286/286 [==============================] - 318s 1s/step - loss: 0.3910 - accuracy: 0.8694 - val_loss: 2.8699 - val_accuracy: 0.6719\n",
      "Epoch 13/20\n",
      "286/286 [==============================] - 322s 1s/step - loss: 0.3717 - accuracy: 0.8765 - val_loss: 0.7550 - val_accuracy: 0.8431\n",
      "Epoch 14/20\n",
      "286/286 [==============================] - 320s 1s/step - loss: 0.3598 - accuracy: 0.8832 - val_loss: 0.7371 - val_accuracy: 0.8030\n",
      "Epoch 15/20\n",
      "286/286 [==============================] - 323s 1s/step - loss: 0.3558 - accuracy: 0.8842 - val_loss: 7.6069 - val_accuracy: 0.6272\n",
      "Epoch 16/20\n",
      "286/286 [==============================] - 320s 1s/step - loss: 0.3224 - accuracy: 0.8946 - val_loss: 2.7593 - val_accuracy: 0.7766\n",
      "Epoch 17/20\n",
      "286/286 [==============================] - 326s 1s/step - loss: 0.3126 - accuracy: 0.8967 - val_loss: 1.0634 - val_accuracy: 0.7680\n",
      "Epoch 18/20\n",
      "286/286 [==============================] - 322s 1s/step - loss: 0.2972 - accuracy: 0.9030 - val_loss: 1.0004 - val_accuracy: 0.8314\n",
      "Epoch 19/20\n",
      "286/286 [==============================] - 325s 1s/step - loss: 0.2854 - accuracy: 0.9077 - val_loss: 0.8789 - val_accuracy: 0.8614\n",
      "Epoch 20/20\n",
      "286/286 [==============================] - 323s 1s/step - loss: 0.2923 - accuracy: 0.9066 - val_loss: 2.8213 - val_accuracy: 0.6413\n"
     ]
    }
   ],
   "source": [
    "# Trains the model for a given number of epochs (iterations on a dataset).\n",
    "cn_training = model_cn.fit_generator(train_generator,\n",
    "                                       steps_per_epoch = steps_per_epoch_cn,\n",
    "                                       epochs = epoch_cn,\n",
    "                                       validation_data = validation_generator,\n",
    "                                       validation_steps = num_of_validation_samples // batch_size_cn)"
   ]
  },
  {
   "cell_type": "markdown",
   "metadata": {
    "papermill": {
     "duration": 6.833372,
     "end_time": "2022-05-07T21:42:48.442704",
     "exception": false,
     "start_time": "2022-05-07T21:42:41.609332",
     "status": "completed"
    },
    "tags": []
   },
   "source": [
    "Saving the model history for Custom network"
   ]
  },
  {
   "cell_type": "code",
   "execution_count": 24,
   "metadata": {
    "execution": {
     "iopub.execute_input": "2022-05-07T21:43:02.509562Z",
     "iopub.status.busy": "2022-05-07T21:43:02.508695Z",
     "iopub.status.idle": "2022-05-07T21:43:02.513886Z",
     "shell.execute_reply": "2022-05-07T21:43:02.513439Z",
     "shell.execute_reply.started": "2022-05-07T10:46:55.407516Z"
    },
    "papermill": {
     "duration": 6.865748,
     "end_time": "2022-05-07T21:43:02.513982",
     "exception": false,
     "start_time": "2022-05-07T21:42:55.648234",
     "status": "completed"
    },
    "scrolled": true,
    "tags": []
   },
   "outputs": [
    {
     "name": "stdout",
     "output_type": "stream",
     "text": [
      "Training Accuracy CN    : 0.9065696597099304\n",
      "Training Loss CN        : 0.2923281490802765\n",
      "Validation Accuracy CN  : 0.641285240650177\n",
      "Validation Loss CN      : 2.821279525756836\n"
     ]
    }
   ],
   "source": [
    "training_accuracy_cn      = cn_training.history['accuracy'][-1]\n",
    "training_loss_cn          = cn_training.history['loss'][-1]\n",
    "validation_accuracy_cn    = cn_training.history['val_accuracy'][-1]\n",
    "validation_loss_cn        = cn_training.history['val_loss'][-1]\n",
    "print(\"Training Accuracy CN    :\", training_accuracy_cn )\n",
    "print(\"Training Loss CN        :\", training_loss_cn)\n",
    "print(\"Validation Accuracy CN  :\", validation_accuracy_cn)\n",
    "print(\"Validation Loss CN      :\", validation_loss_cn)"
   ]
  },
  {
   "cell_type": "markdown",
   "metadata": {
    "papermill": {
     "duration": 6.507554,
     "end_time": "2022-05-07T21:43:15.857288",
     "exception": false,
     "start_time": "2022-05-07T21:43:09.349734",
     "status": "completed"
    },
    "tags": []
   },
   "source": [
    "Generating Confusion Matrix and Classification Report for Custom Network"
   ]
  },
  {
   "cell_type": "code",
   "execution_count": 25,
   "metadata": {
    "execution": {
     "iopub.execute_input": "2022-05-07T21:43:29.995767Z",
     "iopub.status.busy": "2022-05-07T21:43:29.994094Z",
     "iopub.status.idle": "2022-05-07T21:43:44.505697Z",
     "shell.execute_reply": "2022-05-07T21:43:44.505201Z",
     "shell.execute_reply.started": "2022-05-07T10:46:55.418954Z"
    },
    "papermill": {
     "duration": 21.994828,
     "end_time": "2022-05-07T21:43:44.505796",
     "exception": false,
     "start_time": "2022-05-07T21:43:22.510968",
     "status": "completed"
    },
    "scrolled": true,
    "tags": []
   },
   "outputs": [
    {
     "name": "stdout",
     "output_type": "stream",
     "text": [
      "Confusion Matrix\n",
      "[[253  56   0   8  17  68   0  18   0   5]\n",
      " [  0 257   4 101  22  52   4  27   8   5]\n",
      " [  0   0 479   0   0   0   0   0   0   2]\n",
      " [  1  85  11 319   9  24   1   7   3   3]\n",
      " [  0   3  18   0 305  20   3   7 114   0]\n",
      " [  0   1   5   4   9 409   0   2   5   1]\n",
      " [  0   0 217   0   0  18  70  81  49   0]\n",
      " [  0   3 215   0   2  54   0 157  26   0]\n",
      " [  0   0   8   0   1 102   0   0 337   0]\n",
      " [  0   8   5   2  10   1  76   8  22 358]]\n",
      "=============================================================================================\n",
      "Classification Report\n",
      "              precision    recall  f1-score   support\n",
      "\n",
      "          n0       1.00      0.60      0.75       425\n",
      "          n1       0.62      0.54      0.58       480\n",
      "          n2       0.50      1.00      0.66       481\n",
      "          n3       0.74      0.69      0.71       463\n",
      "          n4       0.81      0.65      0.72       470\n",
      "          n5       0.55      0.94      0.69       436\n",
      "          n6       0.45      0.16      0.24       435\n",
      "          n7       0.51      0.34      0.41       457\n",
      "          n8       0.60      0.75      0.67       448\n",
      "          n9       0.96      0.73      0.83       490\n",
      "\n",
      "    accuracy                           0.64      4585\n",
      "   macro avg       0.67      0.64      0.63      4585\n",
      "weighted avg       0.67      0.64      0.63      4585\n",
      "\n"
     ]
    }
   ],
   "source": [
    "# Generating Confusion Matrix and Classification Report\n",
    "Y_pred_cn = model_cn.predict_generator(validation_generator, num_of_validation_samples // batch_size+1)\n",
    "y_pred_cn = np.argmax(Y_pred_cn, axis=1)\n",
    "print('Confusion Matrix')\n",
    "conf_matrix_cn = confusion_matrix(validation_generator.classes, y_pred_cn)\n",
    "cm_cn = np.array2string(conf_matrix_cn)\n",
    "print(conf_matrix_cn)\n",
    "print(\"=============================================================================================\")\n",
    "print('Classification Report')\n",
    "# target_names = ['n0','n1','n2','n3','n4','n5','n6','n7','n8','n9']\n",
    "class_rep_cn = classification_report(validation_generator.classes, y_pred_cn, target_names=target_names)\n",
    "print(class_rep_cn)"
   ]
  },
  {
   "cell_type": "markdown",
   "metadata": {
    "papermill": {
     "duration": 6.871091,
     "end_time": "2022-05-07T21:43:57.826998",
     "exception": false,
     "start_time": "2022-05-07T21:43:50.955907",
     "status": "completed"
    },
    "tags": []
   },
   "source": [
    "# Comparing Accuracies and losses for all the models"
   ]
  },
  {
   "cell_type": "code",
   "execution_count": 26,
   "metadata": {
    "execution": {
     "iopub.execute_input": "2022-05-07T21:44:11.748245Z",
     "iopub.status.busy": "2022-05-07T21:44:11.747334Z",
     "iopub.status.idle": "2022-05-07T21:44:11.757768Z",
     "shell.execute_reply": "2022-05-07T21:44:11.757326Z",
     "shell.execute_reply.started": "2022-05-07T10:47:10.255883Z"
    },
    "papermill": {
     "duration": 6.624265,
     "end_time": "2022-05-07T21:44:11.757859",
     "exception": false,
     "start_time": "2022-05-07T21:44:05.133594",
     "status": "completed"
    },
    "scrolled": true,
    "tags": []
   },
   "outputs": [
    {
     "data": {
      "text/html": [
       "<div>\n",
       "<style scoped>\n",
       "    .dataframe tbody tr th:only-of-type {\n",
       "        vertical-align: middle;\n",
       "    }\n",
       "\n",
       "    .dataframe tbody tr th {\n",
       "        vertical-align: top;\n",
       "    }\n",
       "\n",
       "    .dataframe thead th {\n",
       "        text-align: right;\n",
       "    }\n",
       "</style>\n",
       "<table border=\"1\" class=\"dataframe\">\n",
       "  <thead>\n",
       "    <tr style=\"text-align: right;\">\n",
       "      <th></th>\n",
       "      <th>Models</th>\n",
       "      <th>Batch Size</th>\n",
       "      <th>Epochs</th>\n",
       "      <th>Learning Rate</th>\n",
       "      <th>Steps per epoch</th>\n",
       "      <th>Optimizer</th>\n",
       "      <th>Image Resolution</th>\n",
       "      <th>Training Accuracy</th>\n",
       "      <th>Training Loss</th>\n",
       "      <th>Validation Accuracy</th>\n",
       "      <th>Validation Loss</th>\n",
       "    </tr>\n",
       "  </thead>\n",
       "  <tbody>\n",
       "    <tr>\n",
       "      <th>0</th>\n",
       "      <td>ResNet50</td>\n",
       "      <td>64</td>\n",
       "      <td>20</td>\n",
       "      <td>0.001</td>\n",
       "      <td>286</td>\n",
       "      <td>adam</td>\n",
       "      <td>256*256</td>\n",
       "      <td>0.454789</td>\n",
       "      <td>1.529514</td>\n",
       "      <td>0.412412</td>\n",
       "      <td>1.832525</td>\n",
       "    </tr>\n",
       "    <tr>\n",
       "      <th>1</th>\n",
       "      <td>Inception</td>\n",
       "      <td>64</td>\n",
       "      <td>20</td>\n",
       "      <td>0.001</td>\n",
       "      <td>286</td>\n",
       "      <td>adam</td>\n",
       "      <td>256*256</td>\n",
       "      <td>0.812319</td>\n",
       "      <td>0.570759</td>\n",
       "      <td>0.809199</td>\n",
       "      <td>0.564249</td>\n",
       "    </tr>\n",
       "    <tr>\n",
       "      <th>2</th>\n",
       "      <td>VGG16</td>\n",
       "      <td>64</td>\n",
       "      <td>20</td>\n",
       "      <td>0.001</td>\n",
       "      <td>286</td>\n",
       "      <td>adam</td>\n",
       "      <td>256*256</td>\n",
       "      <td>0.779662</td>\n",
       "      <td>0.664605</td>\n",
       "      <td>0.770467</td>\n",
       "      <td>0.663709</td>\n",
       "    </tr>\n",
       "    <tr>\n",
       "      <th>3</th>\n",
       "      <td>Custom Network</td>\n",
       "      <td>64</td>\n",
       "      <td>20</td>\n",
       "      <td>0.001</td>\n",
       "      <td>286</td>\n",
       "      <td>adam</td>\n",
       "      <td>256*256</td>\n",
       "      <td>0.906570</td>\n",
       "      <td>0.292328</td>\n",
       "      <td>0.641285</td>\n",
       "      <td>2.821280</td>\n",
       "    </tr>\n",
       "  </tbody>\n",
       "</table>\n",
       "</div>"
      ],
      "text/plain": [
       "           Models  Batch Size  Epochs  Learning Rate  Steps per epoch  \\\n",
       "0        ResNet50          64      20          0.001              286   \n",
       "1       Inception          64      20          0.001              286   \n",
       "2           VGG16          64      20          0.001              286   \n",
       "3  Custom Network          64      20          0.001              286   \n",
       "\n",
       "  Optimizer Image Resolution  Training Accuracy  Training Loss  \\\n",
       "0      adam          256*256           0.454789       1.529514   \n",
       "1      adam          256*256           0.812319       0.570759   \n",
       "2      adam          256*256           0.779662       0.664605   \n",
       "3      adam          256*256           0.906570       0.292328   \n",
       "\n",
       "   Validation Accuracy  Validation Loss  \n",
       "0             0.412412         1.832525  \n",
       "1             0.809199         0.564249  \n",
       "2             0.770467         0.663709  \n",
       "3             0.641285         2.821280  "
      ]
     },
     "execution_count": 26,
     "metadata": {},
     "output_type": "execute_result"
    }
   ],
   "source": [
    "model_comp = pd.DataFrame({\"Models\": ['ResNet50', 'Inception', 'VGG16', 'Custom Network'],\n",
    "                           \"Batch Size\":[batch_size,batch_size_inc,batch_size_vgg,batch_size_cn],\n",
    "                           \"Epochs\":[epoch,epoch_inc,epoch_vgg,epoch_cn],\n",
    "                           \"Learning Rate\": [learning_rate,learning_rate_inc,learning_rate_vgg,learning_rate_cn],\n",
    "                           \"Steps per epoch\":[286,286,286,286],\n",
    "                           \"Optimizer\":[\"adam\",'adam', 'adam', 'adam'],\n",
    "                           \"Image Resolution\":['256*256','256*256', '256*256', '256*256'],\n",
    "                          \"Training Accuracy\": [training_accuracy_resnet,training_accuracy_inc,training_accuracy_vgg,training_accuracy_cn],\n",
    "                          \"Training Loss\": [training_loss_resnet,training_loss_inc,training_loss_vgg,training_loss_cn],\n",
    "                          \"Validation Accuracy\": [validation_accuracy_resnet,validation_accuracy_inc,validation_accuracy_vgg,validation_accuracy_cn],\n",
    "                          \"Validation Loss\": [validation_loss_resnet,validation_loss_inc,validation_loss_vgg,validation_loss_cn],\n",
    "                          })\n",
    "model_comp"
   ]
  }
 ],
 "metadata": {
  "kernelspec": {
   "display_name": "Python 3",
   "language": "python",
   "name": "python3"
  },
  "language_info": {
   "codemirror_mode": {
    "name": "ipython",
    "version": 3
   },
   "file_extension": ".py",
   "mimetype": "text/x-python",
   "name": "python",
   "nbconvert_exporter": "python",
   "pygments_lexer": "ipython3",
   "version": "3.7.6"
  },
  "papermill": {
   "duration": 26612.926086,
   "end_time": "2022-05-07T21:44:18.799631",
   "environment_variables": {},
   "exception": null,
   "input_path": "__notebook__.ipynb",
   "output_path": "__notebook__.ipynb",
   "parameters": {},
   "start_time": "2022-05-07T14:20:45.873545",
   "version": "2.1.0"
  }
 },
 "nbformat": 4,
 "nbformat_minor": 4
}
